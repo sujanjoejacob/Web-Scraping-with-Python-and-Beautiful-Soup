{
 "cells": [
  {
   "cell_type": "code",
   "execution_count": 22,
   "metadata": {},
   "outputs": [],
   "source": [
    "import bs4\n",
    "from bs4 import BeautifulSoup as soup  # HTML data structure"
   ]
  },
  {
   "cell_type": "code",
   "execution_count": 9,
   "metadata": {},
   "outputs": [],
   "source": [
    "from urllib.request import urlopen as uReq"
   ]
  },
  {
   "cell_type": "code",
   "execution_count": 23,
   "metadata": {},
   "outputs": [],
   "source": [
    "# URl to web scrap from.\n",
    "# in this example we web scrap graphics cards from Newegg.com\n",
    "page_url = \"http://www.newegg.com/Product/ProductList.aspx?Submit=ENE&N=-1&IsNodeId=1&Description=GTX&bop=And&Page=1&PageSize=36&order=BESTMATCH\""
   ]
  },
  {
   "cell_type": "code",
   "execution_count": 26,
   "metadata": {},
   "outputs": [],
   "source": [
    "# opens the connection and downloads html page from url\n",
    "uClient = uReq(page_url)\n",
    "page_html = uClient.read()\n",
    "uClient.close()"
   ]
  },
  {
   "cell_type": "code",
   "execution_count": 28,
   "metadata": {},
   "outputs": [
    {
     "data": {
      "text/plain": [
       "<p>Newegg.com - A great place to buy computers, computer parts, electronics, software, accessories, and DVDs online. With great prices, fast shipping, and top-rated customer service - Newegg shopping upgraded ™</p>"
      ]
     },
     "execution_count": 28,
     "metadata": {},
     "output_type": "execute_result"
    }
   ],
   "source": [
    "# parses html into a soup data structure to traverse html\n",
    "# as if it were a json data type.\n",
    "page_soup = soup(page_html, \"html.parser\")\n",
    "page_soup.h1\n",
    "page_soup.p"
   ]
  },
  {
   "cell_type": "code",
   "execution_count": 29,
   "metadata": {},
   "outputs": [
    {
     "data": {
      "text/plain": [
       "<span class=\"noCSS\">Skip to:</span>"
      ]
     },
     "execution_count": 29,
     "metadata": {},
     "output_type": "execute_result"
    }
   ],
   "source": [
    "page_soup.body.span"
   ]
  },
  {
   "cell_type": "code",
   "execution_count": 30,
   "metadata": {},
   "outputs": [],
   "source": [
    "# finds each product from the store page\n",
    "containers = page_soup.findAll(\"div\", {\"class\": \"item-container\"})"
   ]
  },
  {
   "cell_type": "code",
   "execution_count": 31,
   "metadata": {},
   "outputs": [
    {
     "data": {
      "text/plain": [
       "36"
      ]
     },
     "execution_count": 31,
     "metadata": {},
     "output_type": "execute_result"
    }
   ],
   "source": [
    "len(containers)"
   ]
  },
  {
   "cell_type": "code",
   "execution_count": 32,
   "metadata": {},
   "outputs": [
    {
     "data": {
      "text/plain": [
       "<div class=\"item-container \">\n",
       "<!--product image-->\n",
       "<a class=\"item-img\" href=\"https://www.newegg.com/Product/Product.aspx?Item=N82E16814137084&amp;cm_re=GTX-_-14-137-084-_-Product\">\n",
       "<img alt=\"MSI GeForce GTX 1080 DirectX 12 GTX 1080 DUKE 8G OC 8GB 256-Bit GDDR5X PCI Express 3.0 x16 HDCP Ready SLI Support Video Cards\" src=\"//c1.neweggimages.com/NeweggImage/ProductImageCompressAll300/14-137-084-S99.jpg\" title=\"MSI GeForce GTX 1080 DirectX 12 GTX 1080 DUKE 8G OC 8GB 256-Bit GDDR5X PCI Express 3.0 x16 HDCP Ready SLI Support Video Cards\"/>\n",
       "</a>\n",
       "<div class=\"item-info\">\n",
       "<!--brand info-->\n",
       "<div class=\"item-branding\">\n",
       "<a class=\"item-brand\" href=\"https://www.newegg.com/MSI/BrandStore/ID-1312\">\n",
       "<img alt=\"MSI\" src=\"//c1.neweggimages.com/Brandimage_70x28//Brand1312.gif\" title=\"MSI\"/>\n",
       "</a>\n",
       "<!--rating info-->\n",
       "<a class=\"item-rating\" href=\"https://www.newegg.com/Product/Product.aspx?Item=N82E16814137084&amp;SortField=0&amp;SummaryType=0&amp;PageSize=36&amp;SelectedRating=-1&amp;VideoOnlyMark=False&amp;ignorebbr=1&amp;IsFeedbackTab=true#scrollFullInfo\" title=\"Rating + 4\"><i class=\"rating rating-4\"></i><span class=\"item-rating-num\">(124)</span></a>\n",
       "</div>\n",
       "<!--description info-->\n",
       "<a class=\"item-title\" href=\"https://www.newegg.com/Product/Product.aspx?Item=N82E16814137084&amp;cm_re=GTX-_-14-137-084-_-Product\" title=\"View Details\"><i class=\"icon-premier icon-premier-xsm\"></i>MSI GeForce GTX 1080 DirectX 12 GTX 1080 DUKE 8G OC 8GB 256-Bit GDDR5X PCI Express 3.0 x16 HDCP Ready SLI Support Video Cards</a>\n",
       "<!--promption info-->\n",
       "<p class=\"item-promo\"><i class=\"item-promo-icon\"></i>Additional savings with the Oculus Rift combo, limited offer</p>\n",
       "<!--feature-->\n",
       "<ul class=\"item-features\">\n",
       "<li><strong>Core Clock:</strong> 1708 MHz</li><li><strong>Max Resolution:</strong> 7680 x 4320</li><li><strong>DisplayPort:</strong> 3 x DisplayPort 1.4</li><li><strong>DVI:</strong> 1 x DL-DVI-D</li>\n",
       "<li><strong>Model #: </strong>GTX 1080 DUKE 8G OC</li>\n",
       "<li><strong>Item #: </strong>N82E16814137084</li>\n",
       "<li><strong>Return Policy: </strong><a href=\"https://kb.newegg.com/Article/Index/12/3?id=1167#80\" target=\"_blank\" title=\"Replacement Only Return Policy(New Window)\">Replacement Only Return Policy</a></li>\n",
       "</ul>\n",
       "<div class=\"item-action\">\n",
       "<!--price-->\n",
       "<ul class=\"price has-label-membership \">\n",
       "<li class=\"price-was\">\n",
       "</li>\n",
       "<li class=\"price-map\">\n",
       "</li>\n",
       "<li class=\"price-current\">\n",
       "<span class=\"price-current-label\">\n",
       "<a aria-label=\"Premier Price Explaination\" class=\"membership-info membership-popup\" data-neg-popid=\"MembershipPopup\" href=\"javascript:void(0);\" name=\"membership\" style=\"display: inline\"><span class=\"membership-icon\"></span><span style=\"display: none\">|</span></a>\n",
       "</span>$<strong>489</strong><sup>.99</sup> <a class=\"price-current-num\" href=\"https://www.newegg.com/Product/Product.aspx?Item=N82E16814137084&amp;buyingoptions=New\">(3 Offers)</a>\n",
       "<span class=\"price-current-range\">\n",
       "<abbr title=\"to\">–</abbr>\n",
       "</span>\n",
       "</li>\n",
       "<li class=\"price-save \">\n",
       "<span class=\"price-save-endtime price-save-endtime-current\"></span>\n",
       "<span class=\"price-save-endtime price-save-endtime-another\" style=\"display:none;\"></span>\n",
       "</li>\n",
       "<li class=\"price-note\">\n",
       "<span class=\"price-note-dollar\" data-price=\"$469.99\">$469.99</span>\n",
       "<span class=\"price-note-label \"> after </span>\n",
       "<span class=\"price-note-dollar\">$20.00</span>\n",
       "<span class=\"price-note-label\"> rebate card</span>\n",
       "</li>\n",
       "<li class=\"price-ship\">\n",
       "        $4.99 Shipping\n",
       "    </li>\n",
       "</ul>\n",
       "<!--egg point-->\n",
       "<!--financing-->\n",
       "<!--button-->\n",
       "<div class=\"item-operate \">\n",
       "<div class=\"item-button-area\">\n",
       "<button class=\"btn btn-mini \" onclick=\"Javascript:Biz.ProductList.Item.add('https://www.newegg.com/Product/Product.aspx?Item=N82E16814137084');\" title=\"View Details\" type=\"button\">View Details <i class=\"fa fa-caret-right\"></i></button>\n",
       "</div>\n",
       "<!--compare-->\n",
       "<div class=\"item-compare-box\">\n",
       "<label class=\"form-checkbox\">\n",
       "<input aria-labelledby=\"checkbox_compare\" autocomplete=\"off\" id=\"CompareItem_14-137-084\" name=\"CompareItem\" neg-itemnumber=\"14-137-084\" type=\"checkbox\" value=\"CompareItem_14-137-084\"/>\n",
       "<span class=\"form-checkbox-title\">Compare</span>\n",
       "</label>\n",
       "</div>\n",
       "<script type=\"text/javascript\">\n",
       "                        Biz.Product.CompareConfig.compareItems.push(\"14-137-084\");\n",
       "                        var itemThumbs = new Object();\n",
       "                        itemThumbs.itemNumber = \"14-137-084\";\n",
       "                        itemThumbs.imageUrl = \"//c1.neweggimages.com/ProductImageCompressAll35/14-137-084-S99.jpg\";\n",
       "                        Biz.Product.CompareConfig.Thumbs.push(itemThumbs);\n",
       "                    </script>\n",
       "</div>\n",
       "</div>\n",
       "</div>\n",
       "</div>"
      ]
     },
     "execution_count": 32,
     "metadata": {},
     "output_type": "execute_result"
    }
   ],
   "source": [
    "containers[0]"
   ]
  },
  {
   "cell_type": "code",
   "execution_count": 33,
   "metadata": {},
   "outputs": [],
   "source": [
    "contain = containers[0]"
   ]
  },
  {
   "cell_type": "code",
   "execution_count": 47,
   "metadata": {},
   "outputs": [
    {
     "data": {
      "text/plain": [
       "<a class=\"item-brand\" href=\"https://www.newegg.com/MSI/BrandStore/ID-1312\">\n",
       "<img alt=\"MSI\" src=\"//c1.neweggimages.com/Brandimage_70x28//Brand1312.gif\" title=\"MSI\"/>\n",
       "</a>"
      ]
     },
     "execution_count": 47,
     "metadata": {},
     "output_type": "execute_result"
    }
   ],
   "source": [
    "container = containers[0]\n",
    "container.div.div.a"
   ]
  },
  {
   "cell_type": "code",
   "execution_count": 49,
   "metadata": {},
   "outputs": [],
   "source": [
    "# finds each product from the store page\n",
    "containers = page_soup.findAll(\"div\", {\"class\": \"item-container\"})"
   ]
  },
  {
   "cell_type": "code",
   "execution_count": 59,
   "metadata": {},
   "outputs": [],
   "source": [
    "# name the output file to write to local disk\n",
    "out_filename = \"graphics_cards.csv\"\n",
    "# header of csv file to be written\n",
    "headers = \"brand,product_name,shipping\\n\"\n"
   ]
  },
  {
   "cell_type": "code",
   "execution_count": 57,
   "metadata": {},
   "outputs": [
    {
     "data": {
      "text/plain": [
       "28"
      ]
     },
     "execution_count": 57,
     "metadata": {},
     "output_type": "execute_result"
    }
   ],
   "source": [
    "# opens file, and writes headers\n",
    "f = open(out_filename, \"w\")\n",
    "f.write(headers)"
   ]
  },
  {
   "cell_type": "code",
   "execution_count": 58,
   "metadata": {},
   "outputs": [
    {
     "name": "stdout",
     "output_type": "stream",
     "text": [
      "brand: Msi\n",
      "\n",
      "product_name: MSI GeForce GTX 1080 DirectX 12 GTX 1080 DUKE 8G OC 8GB 256-Bit GDDR5X PCI Express 3.0 x16 HDCP Ready SLI Support Video Cards\n",
      "\n",
      "shipping: 4.99\n",
      "\n",
      "brand: Evga\n",
      "\n",
      "product_name: EVGA GeForce GTX 1050 Ti GAMING, 04G-P4-6251-KR, 4GB GDDR5, DX12 OSD Support (PXOC)\n",
      "\n",
      "shipping: 4.99\n",
      "\n",
      "brand: Gigabyte\n",
      "\n",
      "product_name: GIGABYTE GeForce GTX 1060 DirectX 12 GV-N1060WF2OC-6GD 6GB 192-Bit GDDR5 PCI Express 3.0 x16 ATX Video Card\n",
      "\n",
      "shipping: 4.99\n",
      "\n",
      "brand: Evga\n",
      "\n",
      "product_name: EVGA GeForce GTX 1080 Ti iCX GAMING, 11G-P4-6591-KR, 11GB GDDR5X, iCX Technology - 9 Thermal Sensors & RGB LED G/P/M\n",
      "\n",
      "shipping: 4.99\n",
      "\n",
      "brand: Evga\n",
      "\n",
      "product_name: EVGA GeForce GTX 1070 Ti DirectX 12 08G-P4-6678-KR 8GB 256-Bit GDDR5 PCI Express 3.0 SLI Support Video Card\n",
      "\n",
      "shipping: Free\n",
      "\n",
      "brand: Msi\n",
      "\n",
      "product_name: MSI GeForce GTX 1080 Ti DirectX 12 GTX 1080 Ti GAMING 11G 11GB 352-Bit GDDR5X PCI Express 3.0 x16 HDCP Ready SLI Support Video Card\n",
      "\n",
      "shipping: Free\n",
      "\n",
      "brand: Evga\n",
      "\n",
      "product_name: EVGA GeForce GTX 1070 SC GAMING ACX 3.0 Black Edition, 08G-P4-5173-KR, 8GB GDDR5, LED, DX12 OSD Support (PXOC)\n",
      "\n",
      "shipping: 4.99\n",
      "\n",
      "brand: Evga\n",
      "\n",
      "product_name: EVGA GeForce GTX 1060 6GB SSC GAMING ACX 3.0, 6GB GDDR5, LED, DX12 OSD Support (PXOC), 06G-P4-6267-KR\n",
      "\n",
      "shipping: Free\n",
      "\n",
      "brand: Gigabyte\n",
      "\n",
      "product_name: GIGABYTE GeForce GTX 1060 DirectX 12 GV-N1060WF2OC-3GD 3GB 192-Bit GDDR5 PCI Express 3.0 x16 ATX Video Card\n",
      "\n",
      "shipping: 4.99\n",
      "\n",
      "brand: Msi\n",
      "\n",
      "product_name: MSI GeForce GTX 1070 DirectX 12 GTX 1070 GAMING X 8G 8GB 256-Bit GDDR5 PCI Express 3.0 x16 HDCP Ready SLI Support ATX Video Card\n",
      "\n",
      "shipping: 4.99\n",
      "\n",
      "brand: Gigabyte\n",
      "\n",
      "product_name: View Return Policy\n",
      "\n",
      "shipping: Free\n",
      "\n",
      "brand: Gigabyte\n",
      "\n",
      "product_name: GIGABYTE GeForce GTX 1080 DirectX 12 GV-N1080WF3OC-8GD 8GB 256-Bit GDDR5X PCI Express 3.0 x16 SLI Support ATX Video Card\n",
      "\n",
      "shipping: 4.99\n",
      "\n",
      "brand: Msi\n",
      "\n",
      "product_name: MSI GeForce GTX 1080 Ti DirectX 12 GeForce GTX 1080 TI ARMOR 11G OC 11GB 352-Bit GDDR5X PCI Express 3.0 x16 HDCP Ready SLI Support Video Card\n",
      "\n",
      "shipping: 4.99\n",
      "\n",
      "brand: Evga\n",
      "\n",
      "product_name: EVGA GeForce GTX 1080 Ti SC Black Edition GAMING, 11G-P4-6393-KR, 11GB GDDR5X, iCX Cooler & LED\n",
      "\n",
      "shipping: 4.99\n",
      "\n",
      "brand: Msi\n",
      "\n",
      "product_name: MSI GeForce GTX 1050 Ti DirectX 12 GTX 1050 Ti GAMING X 4G 4GB 128-Bit GDDR5 PCI Express 3.0 x16 HDCP Ready ATX Video Card\n",
      "\n",
      "shipping: 4.99\n",
      "\n",
      "brand: Msi\n",
      "\n",
      "product_name: MSI GeForce GTX 1070 Ti DirectX 12 GTX 1070 Ti GAMING 8G 8GB 256-Bit GDDR5 PCI Express 3.0 x16 HDCP Ready SLI Support ATX Video Card\n",
      "\n",
      "shipping: 4.99\n",
      "\n",
      "brand: Evga\n",
      "\n",
      "product_name: EVGA GeForce GTX 1060 DirectX 12 06G-P4-6262-KR 6GB 192-Bit GDDR5 PCI Express 3.0 Video Card\n",
      "\n",
      "shipping: 4.99\n",
      "\n",
      "brand: Asus\n",
      "\n",
      "product_name: ASUS ROG GeForce GTX 1080 Ti DirectX 12 STRIX-GTX1080TI-11G-GAMING 11GB 352-Bit GDDR5X HDCP Ready SLI Support Video Card\n",
      "\n",
      "shipping: Free\n",
      "\n",
      "brand: Evga\n",
      "\n",
      "product_name: EVGA GeForce GTX 1060 GAMING, ACX 2.0 (Single Fan), 03G-P4-6160-KR, 3GB GDDR5, DX12 OSD Support (PXOC), Only 6.8 Inches\n",
      "\n",
      "shipping: Free\n",
      "\n",
      "brand: Gigabyte\n",
      "\n",
      "product_name: GIGABYTE AORUS GeForce GTX 1080 Gaming Box DirectX 12 GV-N1080IXEB-8GD eGPU\n",
      "\n",
      "shipping: Free\n",
      "\n",
      "brand: Evga\n",
      "\n",
      "product_name: EVGA GeForce GTX 1060 SC GAMING, ACX 2.0 (Single Fan), 06G-P4-6163-KR, 6GB GDDR5, DX12 OSD Support (PXOC), Only 6.8 Inches\n",
      "\n",
      "shipping: 4.99\n",
      "\n",
      "brand: Gigabyte\n",
      "\n",
      "product_name: GIGABYTE GeForce GTX 1080 Ti DirectX 12 GV-N108TGAMING OC-11GD 11GB 352-Bit GDDR5X PCI Express 3.0 x16 ATX Video Card\n",
      "\n",
      "shipping: 4.99\n",
      "\n",
      "brand: Zotac\n",
      "\n",
      "product_name: ZOTAC GeForce GTX 1070 Ti DirectX 12 ZT-P10710C-10P 8GB 256-Bit GDDR5 PCI Express 3.0 HDCP Ready SLI Support Video Card - AMP! Edition\n",
      "\n",
      "shipping: 4.99\n",
      "\n",
      "brand: Gigabyte\n",
      "\n",
      "product_name: GIGABYTE GeForce GTX 1060 DirectX 12 GV-N1060D5-6GD REV2 6GB 192-Bit GDDR5 PCI Express 3.0 x16 ATX Video Card\n",
      "\n",
      "shipping: 4.99\n",
      "\n",
      "brand: Asus\n",
      "\n",
      "product_name: ASUS ROG GeForce GTX 1080 STRIX-GTX1080-A8G-GAMING 8GB 256-Bit GDDR5X PCI Express 3.0 HDCP Ready Video Card\n",
      "\n",
      "shipping: Free\n",
      "\n",
      "brand: Gigabyte\n",
      "\n",
      "product_name: GIGABYTE GeForce GTX 1060 DirectX 12 GV-N1060G1 GAMING-6GD REV 2.0 6GB 192-Bit GDDR5 PCI Express 3.0 x16 ATX Video Card\n",
      "\n",
      "shipping: 4.99\n",
      "\n",
      "brand: Evga\n",
      "\n",
      "product_name: EVGA GeForce GTX 1060 GAMING, ACX 2.0 (Single Fan), 06G-P4-6161-KR, 6GB GDDR5, DX12 OSD Support (PXOC), Only 6.8 Inches\n",
      "\n",
      "shipping: 4.99\n",
      "\n",
      "brand: Evga\n",
      "\n",
      "product_name: EVGA GeForce GTX 1050 GAMING, 02G-P4-6150-KR, 2GB GDDR5, DX12 OSD Support (PXOC)\n",
      "\n",
      "shipping: Free\n",
      "\n",
      "brand: Evga\n",
      "\n",
      "product_name: EVGA GeForce GTX 1070 SC2 GAMING iCX, 08G-P4-6573-KR, 8GB GDDR5, 9 Thermal Sensors, Asynchronous Fan Control, Thermal Display LED System, Optimized Airflow Fin Design, Die Cast/Form Fitted Baseplate\n",
      "\n",
      "shipping: Free\n",
      "\n",
      "brand: Evga\n",
      "\n",
      "product_name: EVGA GeForce GTX 1050 Ti FTW GAMING ACX 3.0, 04G-P4-6258-KR, 4GB GDDR5, DX12 OSD Support (PXOC)\n",
      "\n",
      "shipping: 4.99\n",
      "\n",
      "brand: Zotac\n",
      "\n",
      "product_name: ZOTAC GeForce GTX 1070 Ti DirectX 12 ZT-P10710G-10P 8GB 256-Bit GDDR5 PCI Express 3.0 Video Card - Mini\n",
      "\n",
      "shipping: 5.99\n",
      "\n",
      "brand: Msi\n",
      "\n",
      "product_name: MSI GeForce GTX 1060 DirectX 12 GTX 1060 GAMING X 6G 6GB 192-Bit GDDR5 PCI Express 3.0 x16 HDCP Ready ATX Video Card\n",
      "\n",
      "shipping: Free\n",
      "\n",
      "brand: Evga\n",
      "\n",
      "product_name: EVGA GeForce GTX 1050 Ti SC GAMING, 04G-P4-6253-KR, 4GB GDDR5, DX12 OSD Support (PXOC)\n",
      "\n",
      "shipping: 4.99\n",
      "\n",
      "brand: Gigabyte\n",
      "\n",
      "product_name: GIGABYTE AORUS GeForce GTX 1080 Ti DirectX 12 GV-N108TAORUS-11GD 11GB 352-Bit GDDR5X PCI Express 3.0 x16 SLI Support ATX Video Card\n",
      "\n",
      "shipping: 4.99\n",
      "\n",
      "brand: Msi\n",
      "\n",
      "product_name: MSI GeForce GTX 1080 Ti DirectX 12 GTX 1080 Ti DUKE 11G OC 11GB 352-Bit GDDR5X PCI Express 3.0 x16 HDCP Ready SLI Support Video Card\n",
      "\n",
      "shipping: Free\n",
      "\n",
      "brand: Evga\n",
      "\n",
      "product_name: EVGA GeForce GTX 1080 GAMING ACX 3.0, 08G-P4-6181-KR, 8GB GDDR5X, LED, DX12 OSD Support (PXOC)\n",
      "\n",
      "shipping: Free\n",
      "\n"
     ]
    }
   ],
   "source": [
    "# loops over each product and grabs attributes about\n",
    "# each product\n",
    "for container in containers:\n",
    "    # Finds all link tags \"a\" from within the first div.\n",
    "    make_rating_sp = container.div.select(\"a\")\n",
    "\n",
    "# Grabs the title from the image title attribute\n",
    "    # Then does proper casing using .title()\n",
    "    brand = make_rating_sp[0].img[\"title\"].title()\n",
    "\n",
    "    # Grabs the text within the second \"(a)\" tag from within\n",
    "    # the list of queries.\n",
    "    product_name = container.div.select(\"a\")[2].text\n",
    "\n",
    "    # Grabs the product shipping information by searching\n",
    "    # all lists with the class \"price-ship\".\n",
    "    # Then cleans the text of white space with strip()\n",
    "    # Cleans the strip of \"Shipping $\" if it exists to just get number\n",
    "    shipping = container.findAll(\"li\", {\"class\": \"price-ship\"})[0].text.strip().replace(\"$\", \"\").replace(\" Shipping\", \"\")\n",
    "\n",
    "    # prints the dataset to console\n",
    "    print(\"brand: \" + brand + \"\\n\")\n",
    "    print(\"product_name: \" + product_name + \"\\n\")\n",
    "    print(\"shipping: \" + shipping + \"\\n\")\n",
    "\n",
    "    # writes the dataset to file\n",
    "    f.write(brand + \", \" + product_name.replace(\",\", \"|\") + \", \" + shipping + \"\\n\")\n",
    "\n",
    "f.close()  # Close the file"
   ]
  }
 ],
 "metadata": {
  "kernelspec": {
   "display_name": "Python 3",
   "language": "python",
   "name": "python3"
  },
  "language_info": {
   "codemirror_mode": {
    "name": "ipython",
    "version": 3
   },
   "file_extension": ".py",
   "mimetype": "text/x-python",
   "name": "python",
   "nbconvert_exporter": "python",
   "pygments_lexer": "ipython3",
   "version": "3.6.4"
  }
 },
 "nbformat": 4,
 "nbformat_minor": 2
}
